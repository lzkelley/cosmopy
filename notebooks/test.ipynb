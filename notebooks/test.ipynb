{
 "cells": [
  {
   "cell_type": "code",
   "execution_count": null,
   "metadata": {},
   "outputs": [],
   "source": [
    "# %load /Users/lzkelley/init.ipy\n",
    "# Initialize Auto-Reloading Magic\n",
    "%reload_ext autoreload\n",
    "%autoreload 2\n",
    "\n",
    "# Standard Imports\n",
    "import os\n",
    "import sys\n",
    "import json\n",
    "import copy\n",
    "import shutil\n",
    "import datetime\n",
    "from collections import OrderedDict\n",
    "from importlib import reload\n",
    "import warnings\n",
    "\n",
    "# Package Imports\n",
    "import astropy as ap\n",
    "import numpy as np\n",
    "import scipy as sp\n",
    "import matplotlib.pyplot as plt\n",
    "import matplotlib as mpl\n",
    "import matplotlib.patheffects\n",
    "\n",
    "import sympy as sym\n",
    "import sympy.physics\n",
    "import sympy.physics.units as spu\n",
    "from sympy.physics.units.systems import cgs\n",
    "from sympy.physics.units import c, cm, g, s, km, gravitational_constant as G\n",
    "pi = sym.pi\n",
    "\n",
    "import h5py\n",
    "import pandas as pd\n",
    "import tqdm.notebook as tqdm\n",
    "import corner\n",
    "\n",
    "from zcode.constants import *\n",
    "import zcode.plot as zplot\n",
    "import zcode.math as zmath\n",
    "import zcode.inout as zio\n",
    "from zcode.inout.notebook import *\n",
    "import zcode.astro as zastro\n",
    "\n",
    "import kalepy as kale\n",
    "\n",
    "# Silence annoying numpy errors\n",
    "np.seterr(divide='ignore', invalid='ignore', over='ignore')\n",
    "warnings.filterwarnings(\"ignore\", category=UserWarning)\n",
    "\n",
    "# Plotting settings\n",
    "mpl.rc('font', **{'family': 'serif', 'sans-serif': ['Times'], 'size': 12})\n",
    "mpl.rc('lines', solid_capstyle='round')\n",
    "mpl.rc('mathtext', fontset='cm')\n",
    "mpl.style.use('default')   # avoid dark backgrounds from dark theme vscode\n",
    "plt.rcParams.update({'grid.alpha': 0.5})\n",
    "\n",
    "sym.init_printing(use_latex='mathjax')\n"
   ]
  },
  {
   "cell_type": "code",
   "execution_count": null,
   "metadata": {},
   "outputs": [],
   "source": [
    "import cosmopy\n",
    "reload(cosmopy)\n",
    "cosmo = cosmopy.Cosmology()"
   ]
  },
  {
   "cell_type": "markdown",
   "metadata": {},
   "source": [
    "Check the difference between converting forward (from redshift) and then converting backwards (to redshift)"
   ]
  },
  {
   "cell_type": "code",
   "execution_count": null,
   "metadata": {},
   "outputs": [],
   "source": [
    "NUM = 100\n",
    "redz = 10**np.random.uniform(-2, 1, int(NUM))\n",
    "redz = sorted(redz)\n",
    "\n",
    "funcs = ['tage', 'tlbk', 'dlum', 'dcom']\n",
    "# checks = ['age', 'lookback_time', 'luminosity_distance', 'comoving_distance']\n",
    "funcs_for = [\"z_to_\" + ff for ff in funcs]\n",
    "funcs_rev = [ff + \"_to_z\" for ff in funcs]\n",
    "\n",
    "fig, axes = plt.subplots(figsize=[20, 6], ncols=len(funcs))\n",
    "\n",
    "for ii, (ffor, frev) in enumerate(zip(funcs_for, funcs_rev)):\n",
    "    val = getattr(cosmo, ffor)(redz)\n",
    "    vz = getattr(cosmo, frev)(val)\n",
    "    err = (vz - redz) / np.minimum(vz, redz)\n",
    "    \n",
    "    ax = axes[ii]\n",
    "    ax.set(xscale='log', xlabel='redz', yscale='linear', ylabel='error')\n",
    "    ax.plot(redz, err)\n",
    "    \n",
    "plt.show()\n"
   ]
  },
  {
   "cell_type": "markdown",
   "metadata": {},
   "source": [
    "Compare the interpolation functions against the builtin astropy.cosmology calculations"
   ]
  },
  {
   "cell_type": "code",
   "execution_count": null,
   "metadata": {},
   "outputs": [],
   "source": [
    "def get_cosmo_errors(redz, cosmo, funcs_forward, funcs_check):\n",
    "    errors = []\n",
    "    for ii, (func, check) in enumerate(zip(funcs_forward, funcs_check)):\n",
    "        val = getattr(cosmo, func)(redz)\n",
    "        chk = getattr(cosmo, check)(redz).cgs.value\n",
    "        err = (val - chk) / np.minimum(chk, val)\n",
    "        errors.append(err)\n",
    "\n",
    "    return errors"
   ]
  },
  {
   "cell_type": "code",
   "execution_count": null,
   "metadata": {},
   "outputs": [],
   "source": [
    "NUM = 1000\n",
    "redz = 10**np.random.uniform(-2, 1, int(NUM))\n",
    "redz = np.sort(redz)\n",
    "\n",
    "funcs = ['tage', 'tlbk', 'dlum', 'dcom']\n",
    "funcs_check = ['age', 'lookback_time', 'luminosity_distance', 'comoving_distance']\n",
    "funcs_for = [\"z_to_\" + ff for ff in funcs]\n",
    "\n",
    "errors = get_cosmo_errors(redz, cosmo, funcs_for, funcs_check)\n",
    "\n",
    "fig, axes = plt.subplots(figsize=[20, 6], ncols=len(funcs))\n",
    "\n",
    "for ii, (ax, err) in enumerate(zip(axes, errors)):\n",
    "    ax.set(xscale='log', xlabel='redz', yscale='linear', ylabel='error')\n",
    "    ax.plot(redz, err)\n",
    "    \n",
    "plt.show()\n"
   ]
  },
  {
   "cell_type": "markdown",
   "metadata": {},
   "source": [
    "# Compare different number of interpolation points"
   ]
  },
  {
   "cell_type": "code",
   "execution_count": null,
   "metadata": {},
   "outputs": [],
   "source": [
    "# choose grid sizes to check\n",
    "grid_sizes = [5, 10, 20, 40, 80, 160]\n",
    "\n",
    "# choose redshifts\n",
    "NUM = 300\n",
    "redz = sorted(10**np.random.uniform(-2, 1, int(NUM)))\n",
    "\n",
    "err_ave = np.zeros((len(grid_sizes), len(funcs)))\n",
    "err_std = np.zeros_like(err_ave)\n",
    "err_max = np.zeros_like(err_ave)\n",
    "\n",
    "# calculate errors for each grid size\n",
    "for ii, nn in enumerate(grid_sizes):\n",
    "    cosmo = cosmopy.Cosmology(size=nn)\n",
    "    errors = get_cosmo_errors(redz, cosmo, funcs_for, funcs_check)\n",
    "    # get the average, standard-deviation, and maximum of errors\n",
    "    for jj, err in enumerate(errors):\n",
    "        err_fabs = np.fabs(err)\n",
    "        err_ave[ii, jj] = np.mean(err_fabs)\n",
    "        err_std[ii, jj] = np.std(err)\n",
    "        err_max[ii, jj] = np.max(err_fabs)\n",
    "\n",
    "# Plot\n",
    "fig, axes = plt.subplots(figsize=[10, 4], ncols=len(funcs))\n",
    "colors = []\n",
    "for ii, ax in enumerate(axes):\n",
    "    ax.set(xscale='log', xlabel='grid size', yscale='log', ylabel='error')\n",
    "    # cc = None if ii == 0 else colors[ii]\n",
    "    kw = dict(label='max') if ii == 0 else {}\n",
    "    ax.plot(grid_sizes, err_max[:, ii], ls='-', **kw)\n",
    "    kw = dict(label='std') if ii == 0 else {}\n",
    "    ax.plot(grid_sizes, err_std[:, ii], ls='--', **kw)\n",
    "    kw = dict(label='ave') if ii == 0 else {}\n",
    "    ax.plot(grid_sizes, err_ave[:, ii], ls=':', **kw)\n",
    "\n",
    "axes[0].legend()\n",
    "plt.show()"
   ]
  }
 ],
 "metadata": {
  "kernelspec": {
   "display_name": "Python 3.9.13 ('py39')",
   "language": "python",
   "name": "python3"
  },
  "language_info": {
   "codemirror_mode": {
    "name": "ipython",
    "version": 3
   },
   "file_extension": ".py",
   "mimetype": "text/x-python",
   "name": "python",
   "nbconvert_exporter": "python",
   "pygments_lexer": "ipython3",
   "version": "3.9.13"
  },
  "toc": {
   "base_numbering": 1,
   "nav_menu": {},
   "number_sections": true,
   "sideBar": true,
   "skip_h1_title": false,
   "title_cell": "Table of Contents",
   "title_sidebar": "Contents",
   "toc_cell": false,
   "toc_position": {
    "height": "calc(100% - 180px)",
    "left": "10px",
    "top": "150px",
    "width": "165px"
   },
   "toc_section_display": true,
   "toc_window_display": true
  },
  "varInspector": {
   "cols": {
    "lenName": 16,
    "lenType": 16,
    "lenVar": 40
   },
   "kernels_config": {
    "python": {
     "delete_cmd_postfix": "",
     "delete_cmd_prefix": "del ",
     "library": "var_list.py",
     "varRefreshCmd": "print(var_dic_list())"
    },
    "r": {
     "delete_cmd_postfix": ") ",
     "delete_cmd_prefix": "rm(",
     "library": "var_list.r",
     "varRefreshCmd": "cat(var_dic_list()) "
    }
   },
   "types_to_exclude": [
    "module",
    "function",
    "builtin_function_or_method",
    "instance",
    "_Feature"
   ],
   "window_display": false
  },
  "vscode": {
   "interpreter": {
    "hash": "61b4062b24dfb1010f420dad5aa3bd73a4d2af47d0ec44eafec465a35a9d7239"
   }
  }
 },
 "nbformat": 4,
 "nbformat_minor": 4
}
