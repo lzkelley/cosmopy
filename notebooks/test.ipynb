{
 "cells": [
  {
   "cell_type": "code",
   "execution_count": null,
   "metadata": {},
   "outputs": [],
   "source": [
    "# %load /Users/lzkelley/init.ipy\n",
    "# Initialize Auto-Reloading Magic\n",
    "%reload_ext autoreload\n",
    "%autoreload 2\n",
    "\n",
    "# Standard Imports\n",
    "import os\n",
    "import sys\n",
    "import json\n",
    "import copy\n",
    "import shutil\n",
    "import datetime\n",
    "from collections import OrderedDict\n",
    "from importlib import reload\n",
    "import warnings\n",
    "\n",
    "# Package Imports\n",
    "import astropy as ap\n",
    "import numpy as np\n",
    "import scipy as sp\n",
    "import matplotlib.pyplot as plt\n",
    "import matplotlib as mpl\n",
    "import matplotlib.patheffects\n",
    "\n",
    "import sympy as sym\n",
    "import sympy.physics\n",
    "import sympy.physics.units as spu\n",
    "from sympy.physics.units.systems import cgs\n",
    "from sympy.physics.units import c, cm, g, s, km, gravitational_constant as G\n",
    "pi = sym.pi\n",
    "\n",
    "import h5py\n",
    "import pandas as pd\n",
    "import tqdm.notebook as tqdm\n",
    "import corner\n",
    "\n",
    "from zcode.constants import *\n",
    "import zcode.plot as zplot\n",
    "import zcode.math as zmath\n",
    "import zcode.inout as zio\n",
    "from zcode.inout.notebook import *\n",
    "import zcode.astro as zastro\n",
    "\n",
    "import kalepy as kale\n",
    "\n",
    "# Silence annoying numpy errors\n",
    "np.seterr(divide='ignore', invalid='ignore', over='ignore')\n",
    "warnings.filterwarnings(\"ignore\", category=UserWarning)\n",
    "\n",
    "# Plotting settings\n",
    "mpl.rc('font', **{'family': 'serif', 'sans-serif': ['Times'], 'size': 12})\n",
    "mpl.rc('lines', solid_capstyle='round')\n",
    "mpl.rc('mathtext', fontset='cm')\n",
    "plt.rcParams.update({'grid.alpha': 0.5})\n",
    "\n",
    "sym.init_printing(use_latex='mathjax')\n"
   ]
  },
  {
   "cell_type": "code",
   "execution_count": null,
   "metadata": {},
   "outputs": [],
   "source": [
    "import cosmopy\n",
    "reload(cosmopy)\n",
    "cosmo = cosmopy.Cosmology()"
   ]
  },
  {
   "cell_type": "code",
   "execution_count": null,
   "metadata": {},
   "outputs": [],
   "source": [
    "NUM = 100\n",
    "redz = 10**np.random.uniform(-2, 1, int(NUM))\n",
    "redz = sorted(redz)\n",
    "\n",
    "funcs = ['tage', 'tlbk', 'dlum', 'dcom']\n",
    "checks = ['age', 'lookback_time', 'luminosity_distance', 'comoving_distance']\n",
    "funcs_for = [\"z_to_\" + ff for ff in funcs]\n",
    "funcs_rev = [ff + \"_to_z\" for ff in funcs]\n",
    "\n",
    "fig, axes = plt.subplots(figsize=[20, 6], ncols=len(funcs))\n",
    "\n",
    "for ii, (ffor, frev) in enumerate(zip(funcs_for, funcs_rev)):\n",
    "    val = getattr(cosmo, ffor)(redz)\n",
    "    vz = getattr(cosmo, frev)(val)\n",
    "    err = (vz - redz) / np.minimum(vz, redz)\n",
    "    \n",
    "    ax = axes[ii]\n",
    "    ax.set(xscale='log', xlabel='redz', yscale='linear', ylabel='error')\n",
    "    ax.plot(redz, err)\n",
    "    \n",
    "plt.show()\n"
   ]
  },
  {
   "cell_type": "code",
   "execution_count": null,
   "metadata": {},
   "outputs": [],
   "source": [
    "NUM = 100\n",
    "redz = 10**np.random.uniform(-2, 1, int(NUM))\n",
    "redz = np.sort(redz)\n",
    "\n",
    "funcs = ['tage', 'tlbk', 'dlum', 'dcom']\n",
    "funcs_check = ['age', 'lookback_time', 'luminosity_distance', 'comoving_distance']\n",
    "funcs_for = [\"z_to_\" + ff for ff in funcs]\n",
    "# funcs_rev = [ff + \"_to_z\" for ff in funcs]\n",
    "\n",
    "fig, axes = plt.subplots(figsize=[20, 6], ncols=len(funcs))\n",
    "\n",
    "for ii, (func, check) in enumerate(zip(funcs_for, funcs_check)):\n",
    "    val = getattr(cosmo, func)(redz)\n",
    "    chk = getattr(cosmo, check)(redz).cgs.value\n",
    "    err = (val - chk) / np.minimum(chk, val)\n",
    "    \n",
    "    ax = axes[ii]\n",
    "    ax.set(xscale='log', xlabel='redz', yscale='linear', ylabel='error')\n",
    "    ax.plot(redz, err)\n",
    "    \n",
    "plt.show()\n"
   ]
  }
 ],
 "metadata": {
  "kernelspec": {
   "display_name": "Python 3",
   "language": "python",
   "name": "python3"
  },
  "language_info": {
   "codemirror_mode": {
    "name": "ipython",
    "version": 3
   },
   "file_extension": ".py",
   "mimetype": "text/x-python",
   "name": "python",
   "nbconvert_exporter": "python",
   "pygments_lexer": "ipython3",
   "version": "3.7.7"
  },
  "toc": {
   "base_numbering": 1,
   "nav_menu": {},
   "number_sections": true,
   "sideBar": true,
   "skip_h1_title": false,
   "title_cell": "Table of Contents",
   "title_sidebar": "Contents",
   "toc_cell": false,
   "toc_position": {
    "height": "calc(100% - 180px)",
    "left": "10px",
    "top": "150px",
    "width": "165px"
   },
   "toc_section_display": true,
   "toc_window_display": true
  },
  "varInspector": {
   "cols": {
    "lenName": 16,
    "lenType": 16,
    "lenVar": 40
   },
   "kernels_config": {
    "python": {
     "delete_cmd_postfix": "",
     "delete_cmd_prefix": "del ",
     "library": "var_list.py",
     "varRefreshCmd": "print(var_dic_list())"
    },
    "r": {
     "delete_cmd_postfix": ") ",
     "delete_cmd_prefix": "rm(",
     "library": "var_list.r",
     "varRefreshCmd": "cat(var_dic_list()) "
    }
   },
   "types_to_exclude": [
    "module",
    "function",
    "builtin_function_or_method",
    "instance",
    "_Feature"
   ],
   "window_display": false
  }
 },
 "nbformat": 4,
 "nbformat_minor": 4
}
